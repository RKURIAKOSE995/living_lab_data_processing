{
 "cells": [
  {
   "cell_type": "code",
   "execution_count": null,
   "metadata": {},
   "outputs": [],
   "source": [
    "# Testing"
   ]
  },
  {
   "cell_type": "code",
   "execution_count": null,
   "metadata": {},
   "outputs": [],
   "source": [
    "import pandas as pd\r\n",
    "import plotly.graph_objects as go"
   ]
  },
  {
   "cell_type": "code",
   "execution_count": null,
   "metadata": {},
   "outputs": [],
   "source": [
    "mc_humidity = pd.read_csv(\"./../data/csv/mc_ws.csv\", usecols=['Datetime', 'humidity'], index_col=['Datetime'], parse_dates=True)\r\n",
    "mc_pressure = pd.read_csv(\"./../data/csv/mc_ws.csv\", usecols=['Datetime', 'pressure'], index_col=['Datetime'], parse_dates=True)\r\n",
    "mc_temperature = pd.read_csv(\"./../data/csv/mc_ws.csv\", usecols=['Datetime', 'temperature'], index_col=['Datetime'], parse_dates=True)\r\n",
    "\r\n",
    "cc_humidity = pd.read_csv(\"./../data/csv/weather_data.csv\", usecols=['Datetime', 'Humidity in %'], index_col=['Datetime'], parse_dates=True)\r\n",
    "cc_pressure = pd.read_csv(\"./../data/csv/weather_data.csv\", usecols=['Datetime', 'Pressure in mBar'], index_col=['Datetime'], parse_dates=True)\r\n",
    "cc_temperature = pd.read_csv(\"./../data/csv/weather_data.csv\", usecols=['Datetime', 'Temperature in C'], index_col=['Datetime'], parse_dates=True)"
   ]
  },
  {
   "cell_type": "code",
   "execution_count": null,
   "metadata": {},
   "outputs": [],
   "source": [
    "# Prune data\r\n",
    "cc_humidity = cc_humidity[cc_humidity['Humidity in %'] > 1]\r\n",
    "cc_pressure = cc_pressure[cc_pressure['Pressure in mBar'] > 800]\r\n",
    "mc_temperature = mc_temperature[mc_temperature['temperature'] < 100]"
   ]
  },
  {
   "cell_type": "code",
   "execution_count": null,
   "metadata": {},
   "outputs": [],
   "source": [
    "hum = go.Figure()\r\n",
    "\r\n",
    "hum.add_trace(go.Scatter(x=mc_humidity.index.values, y=mc_humidity['humidity'],\r\n",
    "                    mode='lines+markers',\r\n",
    "                    name='Micro-Climate WS'))\r\n",
    "hum.add_trace(go.Scatter(x=cc_humidity.index.values, y=cc_humidity['Humidity in %'],\r\n",
    "                    mode='lines+markers',\r\n",
    "                    name='Cockcroft WS'))\r\n",
    "#hum.update_layout(title=\"Weather Station Humidity Comparison\", xaxis_title=\"10h\", yaxis_title=\"15d\", width=1000, height=1000)\r\n",
    "hum.update_layout(title=\"Weather Station Humidity Comparison\")\r\n",
    "\r\n",
    "hum.show()"
   ]
  },
  {
   "cell_type": "code",
   "execution_count": null,
   "metadata": {},
   "outputs": [],
   "source": [
    "press = go.Figure()\r\n",
    "\r\n",
    "press.add_trace(go.Scatter(x=mc_pressure.index.values, y=mc_pressure['pressure'],\r\n",
    "                    mode='lines+markers',\r\n",
    "                    name='Micro-Climate WS'))\r\n",
    "press.add_trace(go.Scatter(x=cc_pressure.index.values, y=cc_pressure['Pressure in mBar'],\r\n",
    "                    mode='lines+markers',\r\n",
    "                    name='Cockcroft WS'))\r\n",
    "#press.update_layout(title=\"Weather Station Pressure Comparison\", xaxis_title=\"10h\", yaxis_title=\"15d\", width=1000, height=1000)\r\n",
    "press.update_layout(title=\"Weather Station Pressure Comparison\")\r\n",
    "\r\n",
    "press.show()"
   ]
  },
  {
   "cell_type": "code",
   "execution_count": null,
   "metadata": {},
   "outputs": [],
   "source": [
    "temp = go.Figure()\r\n",
    "\r\n",
    "temp.add_trace(go.Scatter(x=mc_temperature.index.values, y=mc_temperature['temperature'],\r\n",
    "                    mode='lines+markers',\r\n",
    "                    name='Micro-Climate WS'))\r\n",
    "temp.add_trace(go.Scatter(x=cc_temperature.index.values, y=cc_temperature['Temperature in C'],\r\n",
    "                    mode='lines+markers',\r\n",
    "                    name='Cockcroft WS'))\r\n",
    "#temp.update_layout(title=\"Weather Station Temperature Comparison\", xaxis_title=\"10h\", yaxis_title=\"15d\", width=1000, height=1000)\r\n",
    "temp.update_layout(title=\"Weather Station Temperature Comparison\")\r\n",
    "\r\n",
    "temp.show()"
   ]
  }
 ],
 "metadata": {
  "interpreter": {
   "hash": "7db06df37108c7e2a8b33d144ac49c80e4632df48d360fd899859dbc94449a7d"
  },
  "kernelspec": {
   "display_name": "Python 3.8.5 64-bit ('.dlVenv': venv)",
   "name": "python3"
  },
  "language_info": {
   "name": "python",
   "version": ""
  },
  "orig_nbformat": 4
 },
 "nbformat": 4,
 "nbformat_minor": 2
}