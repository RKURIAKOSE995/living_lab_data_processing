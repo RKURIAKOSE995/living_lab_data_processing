{
 "cells": [
  {
   "cell_type": "code",
   "execution_count": 149,
   "metadata": {},
   "outputs": [],
   "source": [
    "import pandas as pd\n",
    "import json\n",
    "import os\n",
    "\n",
    "from decouple import config\n",
    "import pyodbc\n",
    "import numpy as np"
   ]
  },
  {
   "cell_type": "code",
   "execution_count": 150,
   "metadata": {},
   "outputs": [],
   "source": [
    "data = pd.read_csv('water_data.csv')"
   ]
  },
  {
   "cell_type": "code",
   "execution_count": 151,
   "metadata": {},
   "outputs": [],
   "source": [
    "data_unpivot = data.melt(id_vars=['ID', 'INTERFACE_ID', 'DATETIME'], var_name='aid', value_name='value')\n",
    "data_unpivot['aid'] = data_unpivot['aid'].map(lambda x: x.lstrip('AI'))\n",
    "data_unpivot = data_unpivot.rename(columns={\"INTERFACE_ID\" : \"unitID\", \"aid\" : \"analogID\", \"value\" : \"readingValue\"})\n",
    "data_unpivot = data_unpivot.astype({'analogID': 'int64'})"
   ]
  },
  {
   "cell_type": "code",
   "execution_count": 152,
   "metadata": {},
   "outputs": [],
   "source": [
    "#data_unpivot.to_csv('water_data_unpivot.csv', index=False)"
   ]
  },
  {
   "cell_type": "code",
   "execution_count": 153,
   "metadata": {},
   "outputs": [],
   "source": [
    "BASE_URL = config('SEL_API_URL')\n",
    "USER_KEY = config('SEL_USER_KEY')\n",
    "API_KEY = config('SEL_API_KEY')\n",
    "\n",
    "DB_DRIVER = config('DB_DRIVER')\n",
    "DB_URL = config('AZURE_DB_SERVER')\n",
    "DB_BATABASE = config('AZURE_DB_DATABASE')\n",
    "DB_USR = config('AZURE_DB_USR')\n",
    "DB_PWD = config('AZURE_DB_PWD')\n",
    "\n",
    "# Formatted connection string for the SQL DB.\n",
    "SQL_CONN_STR = \"DRIVER={0};SERVER={1};Database={2};UID={3};PWD={4};\".format(DB_DRIVER, DB_URL, DB_BATABASE, DB_USR, DB_PWD)"
   ]
  },
  {
   "cell_type": "code",
   "execution_count": 154,
   "metadata": {},
   "outputs": [],
   "source": [
    "conn = pyodbc.connect(SQL_CONN_STR)"
   ]
  },
  {
   "cell_type": "code",
   "execution_count": 155,
   "metadata": {},
   "outputs": [],
   "source": [
    "sql = \"\"\"\n",
    "\t\tSELECT DISTINCT [unitGUID], [unitID], [unitName]\n",
    "\t\tFROM [SEL_UNITS]\n",
    "\t\"\"\"\n",
    "units = pd.read_sql(sql, conn)"
   ]
  },
  {
   "cell_type": "code",
   "execution_count": 156,
   "metadata": {},
   "outputs": [],
   "source": [
    "sql = \"\"\"\n",
    "\t\tSELECT DISTINCT r.[sensorGUID], r.[unitGUID], r.[analogID], r.[mUnitGUID], s.sensorName\n",
    "\t\tFROM [SEL_READINGS] as r\n",
    "\t\tJOIN [SEL_SENSORS] as s\n",
    "\t\t\tON (r.[sensorGUID] = s.[sensorGUID])\n",
    "\t\"\"\"\n",
    "sensors = pd.read_sql(sql, conn)"
   ]
  },
  {
   "cell_type": "code",
   "execution_count": 157,
   "metadata": {},
   "outputs": [],
   "source": [
    "sql = \"\"\"\n",
    "\t\tSELECT DISTINCT [mUnitGUID], [mUnitName]\n",
    "\t\tFROM [SEL_MEASURE_UNITS]\n",
    "\t\"\"\"\n",
    "m_units = pd.read_sql(sql, conn)"
   ]
  },
  {
   "cell_type": "code",
   "execution_count": 158,
   "metadata": {},
   "outputs": [],
   "source": [
    "# Find and process IDs here\n",
    "join_df = data_unpivot.merge(units, on=\"unitID\", how=\"inner\")"
   ]
  },
  {
   "cell_type": "code",
   "execution_count": 159,
   "metadata": {},
   "outputs": [],
   "source": [
    "join_df = join_df.merge(sensors, on=[\"unitGUID\", \"analogID\"])"
   ]
  },
  {
   "cell_type": "code",
   "execution_count": 160,
   "metadata": {},
   "outputs": [],
   "source": [
    "join_df = join_df.merge(m_units, on=[\"mUnitGUID\"])"
   ]
  },
  {
   "cell_type": "code",
   "execution_count": 162,
   "metadata": {},
   "outputs": [
    {
     "data": {
      "text/html": [
       "<div>\n",
       "<style scoped>\n",
       "    .dataframe tbody tr th:only-of-type {\n",
       "        vertical-align: middle;\n",
       "    }\n",
       "\n",
       "    .dataframe tbody tr th {\n",
       "        vertical-align: top;\n",
       "    }\n",
       "\n",
       "    .dataframe thead th {\n",
       "        text-align: right;\n",
       "    }\n",
       "</style>\n",
       "<table border=\"1\" class=\"dataframe\">\n",
       "  <thead>\n",
       "    <tr style=\"text-align: right;\">\n",
       "      <th></th>\n",
       "      <th>ID</th>\n",
       "      <th>unitID</th>\n",
       "      <th>DATETIME</th>\n",
       "      <th>analogID</th>\n",
       "      <th>readingValue</th>\n",
       "      <th>unitGUID</th>\n",
       "      <th>unitName</th>\n",
       "      <th>sensorGUID</th>\n",
       "      <th>mUnitGUID</th>\n",
       "      <th>sensorName</th>\n",
       "      <th>mUnitName</th>\n",
       "    </tr>\n",
       "  </thead>\n",
       "  <tbody>\n",
       "    <tr>\n",
       "      <th>0</th>\n",
       "      <td>10449866</td>\n",
       "      <td>527</td>\n",
       "      <td>2021-05-28 01:57:08</td>\n",
       "      <td>0</td>\n",
       "      <td>58.6</td>\n",
       "      <td>452E6EF6-2BD0-4AD0-8D7C-C21A325327F7</td>\n",
       "      <td>Control Panel 4 PH1</td>\n",
       "      <td>61743A91-4C9A-42AA-86DE-649AA30CB680</td>\n",
       "      <td>C19BEB92-BD1D-49D9-8B25-02DA1CCF3819</td>\n",
       "      <td>Moisture Sensor 1</td>\n",
       "      <td>%</td>\n",
       "    </tr>\n",
       "    <tr>\n",
       "      <th>1</th>\n",
       "      <td>10449878</td>\n",
       "      <td>527</td>\n",
       "      <td>2021-05-28 01:58:09</td>\n",
       "      <td>0</td>\n",
       "      <td>58.7</td>\n",
       "      <td>452E6EF6-2BD0-4AD0-8D7C-C21A325327F7</td>\n",
       "      <td>Control Panel 4 PH1</td>\n",
       "      <td>61743A91-4C9A-42AA-86DE-649AA30CB680</td>\n",
       "      <td>C19BEB92-BD1D-49D9-8B25-02DA1CCF3819</td>\n",
       "      <td>Moisture Sensor 1</td>\n",
       "      <td>%</td>\n",
       "    </tr>\n",
       "    <tr>\n",
       "      <th>2</th>\n",
       "      <td>10449891</td>\n",
       "      <td>527</td>\n",
       "      <td>2021-05-28 01:59:09</td>\n",
       "      <td>0</td>\n",
       "      <td>58.6</td>\n",
       "      <td>452E6EF6-2BD0-4AD0-8D7C-C21A325327F7</td>\n",
       "      <td>Control Panel 4 PH1</td>\n",
       "      <td>61743A91-4C9A-42AA-86DE-649AA30CB680</td>\n",
       "      <td>C19BEB92-BD1D-49D9-8B25-02DA1CCF3819</td>\n",
       "      <td>Moisture Sensor 1</td>\n",
       "      <td>%</td>\n",
       "    </tr>\n",
       "    <tr>\n",
       "      <th>3</th>\n",
       "      <td>10449903</td>\n",
       "      <td>527</td>\n",
       "      <td>2021-05-28 02:00:11</td>\n",
       "      <td>0</td>\n",
       "      <td>58.6</td>\n",
       "      <td>452E6EF6-2BD0-4AD0-8D7C-C21A325327F7</td>\n",
       "      <td>Control Panel 4 PH1</td>\n",
       "      <td>61743A91-4C9A-42AA-86DE-649AA30CB680</td>\n",
       "      <td>C19BEB92-BD1D-49D9-8B25-02DA1CCF3819</td>\n",
       "      <td>Moisture Sensor 1</td>\n",
       "      <td>%</td>\n",
       "    </tr>\n",
       "    <tr>\n",
       "      <th>4</th>\n",
       "      <td>10449915</td>\n",
       "      <td>527</td>\n",
       "      <td>2021-05-28 02:01:09</td>\n",
       "      <td>0</td>\n",
       "      <td>58.6</td>\n",
       "      <td>452E6EF6-2BD0-4AD0-8D7C-C21A325327F7</td>\n",
       "      <td>Control Panel 4 PH1</td>\n",
       "      <td>61743A91-4C9A-42AA-86DE-649AA30CB680</td>\n",
       "      <td>C19BEB92-BD1D-49D9-8B25-02DA1CCF3819</td>\n",
       "      <td>Moisture Sensor 1</td>\n",
       "      <td>%</td>\n",
       "    </tr>\n",
       "    <tr>\n",
       "      <th>...</th>\n",
       "      <td>...</td>\n",
       "      <td>...</td>\n",
       "      <td>...</td>\n",
       "      <td>...</td>\n",
       "      <td>...</td>\n",
       "      <td>...</td>\n",
       "      <td>...</td>\n",
       "      <td>...</td>\n",
       "      <td>...</td>\n",
       "      <td>...</td>\n",
       "      <td>...</td>\n",
       "    </tr>\n",
       "    <tr>\n",
       "      <th>5758575</th>\n",
       "      <td>13588442</td>\n",
       "      <td>526</td>\n",
       "      <td>2021-11-15 12:35:58</td>\n",
       "      <td>0</td>\n",
       "      <td>289.0</td>\n",
       "      <td>6FF33116-2BA9-4217-9B38-777F1A03B95D</td>\n",
       "      <td>Control Panel 2 PH1</td>\n",
       "      <td>FC273DCD-9517-4023-B0E0-340AFDAB54FC</td>\n",
       "      <td>AE66ACEE-EC04-4F20-9B13-DC664316A1BC</td>\n",
       "      <td>Level 1</td>\n",
       "      <td>mm</td>\n",
       "    </tr>\n",
       "    <tr>\n",
       "      <th>5758576</th>\n",
       "      <td>13588455</td>\n",
       "      <td>526</td>\n",
       "      <td>2021-11-15 12:36:57</td>\n",
       "      <td>0</td>\n",
       "      <td>290.0</td>\n",
       "      <td>6FF33116-2BA9-4217-9B38-777F1A03B95D</td>\n",
       "      <td>Control Panel 2 PH1</td>\n",
       "      <td>FC273DCD-9517-4023-B0E0-340AFDAB54FC</td>\n",
       "      <td>AE66ACEE-EC04-4F20-9B13-DC664316A1BC</td>\n",
       "      <td>Level 1</td>\n",
       "      <td>mm</td>\n",
       "    </tr>\n",
       "    <tr>\n",
       "      <th>5758577</th>\n",
       "      <td>13588469</td>\n",
       "      <td>526</td>\n",
       "      <td>2021-11-15 12:37:57</td>\n",
       "      <td>0</td>\n",
       "      <td>289.0</td>\n",
       "      <td>6FF33116-2BA9-4217-9B38-777F1A03B95D</td>\n",
       "      <td>Control Panel 2 PH1</td>\n",
       "      <td>FC273DCD-9517-4023-B0E0-340AFDAB54FC</td>\n",
       "      <td>AE66ACEE-EC04-4F20-9B13-DC664316A1BC</td>\n",
       "      <td>Level 1</td>\n",
       "      <td>mm</td>\n",
       "    </tr>\n",
       "    <tr>\n",
       "      <th>5758578</th>\n",
       "      <td>13588482</td>\n",
       "      <td>526</td>\n",
       "      <td>2021-11-15 12:38:57</td>\n",
       "      <td>0</td>\n",
       "      <td>289.0</td>\n",
       "      <td>6FF33116-2BA9-4217-9B38-777F1A03B95D</td>\n",
       "      <td>Control Panel 2 PH1</td>\n",
       "      <td>FC273DCD-9517-4023-B0E0-340AFDAB54FC</td>\n",
       "      <td>AE66ACEE-EC04-4F20-9B13-DC664316A1BC</td>\n",
       "      <td>Level 1</td>\n",
       "      <td>mm</td>\n",
       "    </tr>\n",
       "    <tr>\n",
       "      <th>5758579</th>\n",
       "      <td>13588495</td>\n",
       "      <td>526</td>\n",
       "      <td>2021-11-15 12:39:57</td>\n",
       "      <td>0</td>\n",
       "      <td>288.0</td>\n",
       "      <td>6FF33116-2BA9-4217-9B38-777F1A03B95D</td>\n",
       "      <td>Control Panel 2 PH1</td>\n",
       "      <td>FC273DCD-9517-4023-B0E0-340AFDAB54FC</td>\n",
       "      <td>AE66ACEE-EC04-4F20-9B13-DC664316A1BC</td>\n",
       "      <td>Level 1</td>\n",
       "      <td>mm</td>\n",
       "    </tr>\n",
       "  </tbody>\n",
       "</table>\n",
       "<p>5758580 rows × 11 columns</p>\n",
       "</div>"
      ],
      "text/plain": [
       "               ID  unitID             DATETIME  analogID  readingValue  \\\n",
       "0        10449866     527  2021-05-28 01:57:08         0          58.6   \n",
       "1        10449878     527  2021-05-28 01:58:09         0          58.7   \n",
       "2        10449891     527  2021-05-28 01:59:09         0          58.6   \n",
       "3        10449903     527  2021-05-28 02:00:11         0          58.6   \n",
       "4        10449915     527  2021-05-28 02:01:09         0          58.6   \n",
       "...           ...     ...                  ...       ...           ...   \n",
       "5758575  13588442     526  2021-11-15 12:35:58         0         289.0   \n",
       "5758576  13588455     526  2021-11-15 12:36:57         0         290.0   \n",
       "5758577  13588469     526  2021-11-15 12:37:57         0         289.0   \n",
       "5758578  13588482     526  2021-11-15 12:38:57         0         289.0   \n",
       "5758579  13588495     526  2021-11-15 12:39:57         0         288.0   \n",
       "\n",
       "                                     unitGUID             unitName  \\\n",
       "0        452E6EF6-2BD0-4AD0-8D7C-C21A325327F7  Control Panel 4 PH1   \n",
       "1        452E6EF6-2BD0-4AD0-8D7C-C21A325327F7  Control Panel 4 PH1   \n",
       "2        452E6EF6-2BD0-4AD0-8D7C-C21A325327F7  Control Panel 4 PH1   \n",
       "3        452E6EF6-2BD0-4AD0-8D7C-C21A325327F7  Control Panel 4 PH1   \n",
       "4        452E6EF6-2BD0-4AD0-8D7C-C21A325327F7  Control Panel 4 PH1   \n",
       "...                                       ...                  ...   \n",
       "5758575  6FF33116-2BA9-4217-9B38-777F1A03B95D  Control Panel 2 PH1   \n",
       "5758576  6FF33116-2BA9-4217-9B38-777F1A03B95D  Control Panel 2 PH1   \n",
       "5758577  6FF33116-2BA9-4217-9B38-777F1A03B95D  Control Panel 2 PH1   \n",
       "5758578  6FF33116-2BA9-4217-9B38-777F1A03B95D  Control Panel 2 PH1   \n",
       "5758579  6FF33116-2BA9-4217-9B38-777F1A03B95D  Control Panel 2 PH1   \n",
       "\n",
       "                                   sensorGUID  \\\n",
       "0        61743A91-4C9A-42AA-86DE-649AA30CB680   \n",
       "1        61743A91-4C9A-42AA-86DE-649AA30CB680   \n",
       "2        61743A91-4C9A-42AA-86DE-649AA30CB680   \n",
       "3        61743A91-4C9A-42AA-86DE-649AA30CB680   \n",
       "4        61743A91-4C9A-42AA-86DE-649AA30CB680   \n",
       "...                                       ...   \n",
       "5758575  FC273DCD-9517-4023-B0E0-340AFDAB54FC   \n",
       "5758576  FC273DCD-9517-4023-B0E0-340AFDAB54FC   \n",
       "5758577  FC273DCD-9517-4023-B0E0-340AFDAB54FC   \n",
       "5758578  FC273DCD-9517-4023-B0E0-340AFDAB54FC   \n",
       "5758579  FC273DCD-9517-4023-B0E0-340AFDAB54FC   \n",
       "\n",
       "                                    mUnitGUID         sensorName mUnitName  \n",
       "0        C19BEB92-BD1D-49D9-8B25-02DA1CCF3819  Moisture Sensor 1         %  \n",
       "1        C19BEB92-BD1D-49D9-8B25-02DA1CCF3819  Moisture Sensor 1         %  \n",
       "2        C19BEB92-BD1D-49D9-8B25-02DA1CCF3819  Moisture Sensor 1         %  \n",
       "3        C19BEB92-BD1D-49D9-8B25-02DA1CCF3819  Moisture Sensor 1         %  \n",
       "4        C19BEB92-BD1D-49D9-8B25-02DA1CCF3819  Moisture Sensor 1         %  \n",
       "...                                       ...                ...       ...  \n",
       "5758575  AE66ACEE-EC04-4F20-9B13-DC664316A1BC            Level 1        mm  \n",
       "5758576  AE66ACEE-EC04-4F20-9B13-DC664316A1BC            Level 1        mm  \n",
       "5758577  AE66ACEE-EC04-4F20-9B13-DC664316A1BC            Level 1        mm  \n",
       "5758578  AE66ACEE-EC04-4F20-9B13-DC664316A1BC            Level 1        mm  \n",
       "5758579  AE66ACEE-EC04-4F20-9B13-DC664316A1BC            Level 1        mm  \n",
       "\n",
       "[5758580 rows x 11 columns]"
      ]
     },
     "execution_count": 162,
     "metadata": {},
     "output_type": "execute_result"
    }
   ],
   "source": [
    "join_df"
   ]
  },
  {
   "cell_type": "code",
   "execution_count": 163,
   "metadata": {},
   "outputs": [],
   "source": [
    "join_df = join_df[['DATETIME', 'analogID', 'readingValue', 'unitName', 'sensorName', 'mUnitName']].copy()"
   ]
  },
  {
   "cell_type": "code",
   "execution_count": null,
   "metadata": {},
   "outputs": [],
   "source": [
    "join_df.to_csv('water_data_join.csv', index=False)"
   ]
  },
  {
   "cell_type": "code",
   "execution_count": 104,
   "metadata": {},
   "outputs": [],
   "source": [
    "new_df = join_df[[\"unitGUID\",\"mUnitGUID\", \"sensorGUID\", \"analogID\", \"readingValue\"]].copy()"
   ]
  },
  {
   "cell_type": "code",
   "execution_count": 105,
   "metadata": {},
   "outputs": [],
   "source": [
    "cursor = conn.cursor()\n",
    "cursor.fast_executemany = True"
   ]
  },
  {
   "cell_type": "code",
   "execution_count": 106,
   "metadata": {},
   "outputs": [
    {
     "ename": "OperationalError",
     "evalue": "('08S01', '[08S01] [Microsoft][ODBC Driver 17 for SQL Server]TCP Provider: An existing connection was forcibly closed by the remote host.\\r\\n (10054) (SQLExecute); [08S01] [Microsoft][ODBC Driver 17 for SQL Server]Communication link failure (10054)')",
     "output_type": "error",
     "traceback": [
      "\u001b[1;31m---------------------------------------------------------------------------\u001b[0m",
      "\u001b[1;31mOperationalError\u001b[0m                          Traceback (most recent call last)",
      "\u001b[1;32m~\\AppData\\Local\\Temp/ipykernel_20024/2170691718.py\u001b[0m in \u001b[0;36m<module>\u001b[1;34m\u001b[0m\n\u001b[0;32m      9\u001b[0m \t\"\"\"\n\u001b[0;32m     10\u001b[0m \u001b[0mparams\u001b[0m \u001b[1;33m=\u001b[0m \u001b[0mnew_df\u001b[0m\u001b[1;33m.\u001b[0m\u001b[0mvalues\u001b[0m\u001b[1;33m.\u001b[0m\u001b[0mtolist\u001b[0m\u001b[1;33m(\u001b[0m\u001b[1;33m)\u001b[0m\u001b[1;33m\u001b[0m\u001b[1;33m\u001b[0m\u001b[0m\n\u001b[1;32m---> 11\u001b[1;33m \u001b[0munitGUID\u001b[0m \u001b[1;33m=\u001b[0m \u001b[0mcursor\u001b[0m\u001b[1;33m.\u001b[0m\u001b[0mexecutemany\u001b[0m\u001b[1;33m(\u001b[0m\u001b[0msql\u001b[0m\u001b[1;33m,\u001b[0m \u001b[0mparams\u001b[0m\u001b[1;33m)\u001b[0m\u001b[1;33m\u001b[0m\u001b[1;33m\u001b[0m\u001b[0m\n\u001b[0m",
      "\u001b[1;31mOperationalError\u001b[0m: ('08S01', '[08S01] [Microsoft][ODBC Driver 17 for SQL Server]TCP Provider: An existing connection was forcibly closed by the remote host.\\r\\n (10054) (SQLExecute); [08S01] [Microsoft][ODBC Driver 17 for SQL Server]Communication link failure (10054)')"
     ]
    }
   ],
   "source": [
    "sql = \"\"\"\n",
    "\t\tSET NOCOUNT ON;\n",
    "\t\tDECLARE @readingGUID UNIQUEIDENTIFIER\n",
    "\t\tSET @readingGUID = NULL\n",
    "\t\tSET @readingGUID = NEWID()\n",
    "\t\tINSERT INTO [SEL_READINGS] (readingGUID, unitGUID, mUnitGUID, sensorGUID, analogID, readingValue) \n",
    "\t\tOUTPUT Inserted.readingGUID\n",
    "\t\tVALUES (@readingGUID, ?, ?, ?, ?, ?);\n",
    "\t\"\"\"\n",
    "params = new_df.values.tolist()\n",
    "unitGUID = cursor.executemany(sql, params)"
   ]
  },
  {
   "cell_type": "code",
   "execution_count": null,
   "metadata": {},
   "outputs": [],
   "source": [
    "try:\n",
    "\tfirst_result = cursor.fetchall()\n",
    "except pyodbc.ProgrammingError:\n",
    "\tfirst_result = None\n",
    "\n",
    "result_sets = []\n",
    "while cursor.nextset():\n",
    "\tresult_sets.append(cursor.fetchall())\n",
    "all_inserted_ids = np.array(result_sets).flatten()"
   ]
  },
  {
   "cell_type": "code",
   "execution_count": null,
   "metadata": {},
   "outputs": [],
   "source": [
    "cursor.commit()"
   ]
  },
  {
   "cell_type": "code",
   "execution_count": null,
   "metadata": {},
   "outputs": [],
   "source": [
    "sql = \"\"\"\n",
    "\t\tINSERT INTO [SEL_UPDATES] (readingGUID, lastUpdate) VALUES (?, ?)\n",
    "\t\"\"\"\n",
    "params = (unitGUID, data_unpivot[['DATETIME']])\n",
    "cursor.executemany(sql, params)"
   ]
  },
  {
   "cell_type": "code",
   "execution_count": null,
   "metadata": {},
   "outputs": [],
   "source": [
    "try:\n",
    "\tfirst_result = cursor.fetchall()\n",
    "except pyodbc.ProgrammingError:\n",
    "\tfirst_result = None\n",
    "\n",
    "result_sets = []\n",
    "while cursor.nextset():\n",
    "\tresult_sets.append(cursor.fetchall())\n",
    "all_inserted_ids = np.array(result_sets).flatten()"
   ]
  },
  {
   "cell_type": "code",
   "execution_count": null,
   "metadata": {},
   "outputs": [],
   "source": [
    "cursor.commit()"
   ]
  },
  {
   "cell_type": "code",
   "execution_count": null,
   "metadata": {},
   "outputs": [],
   "source": [
    "cursor.close()\n",
    "conn.close()"
   ]
  }
 ],
 "metadata": {
  "interpreter": {
   "hash": "4ae321a8020d1ae6f62bd491008021b8b411028a068551f9b0d3d5a0eaef42c8"
  },
  "kernelspec": {
   "display_name": "Python 3.8.2 64-bit ('.venv': venv)",
   "language": "python",
   "name": "python3"
  },
  "language_info": {
   "codemirror_mode": {
    "name": "ipython",
    "version": 3
   },
   "file_extension": ".py",
   "mimetype": "text/x-python",
   "name": "python",
   "nbconvert_exporter": "python",
   "pygments_lexer": "ipython3",
   "version": "3.8.2"
  },
  "orig_nbformat": 4
 },
 "nbformat": 4,
 "nbformat_minor": 2
}
