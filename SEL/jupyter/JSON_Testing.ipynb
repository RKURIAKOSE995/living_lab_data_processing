{
 "cells": [
  {
   "cell_type": "code",
   "execution_count": 1,
   "source": [
    "# SEL JSON Testing"
   ],
   "outputs": [],
   "metadata": {}
  },
  {
   "cell_type": "code",
   "execution_count": 2,
   "source": [
    "import pandas as pd\r\n",
    "from pandas import json_normalize\r\n",
    "\r\n",
    "import json"
   ],
   "outputs": [],
   "metadata": {}
  },
  {
   "cell_type": "code",
   "execution_count": 3,
   "source": [
    "with open(\"./../data/SEL_API.json\") as json_file:\r\n",
    "    data = json.load(json_file)"
   ],
   "outputs": [],
   "metadata": {}
  },
  {
   "cell_type": "code",
   "execution_count": 5,
   "source": [
    "request = data\r\n",
    "blocks = data['blocks'][0]\r\n",
    "#blocks = blocks[0]\r\n",
    "analogs = blocks['analogs']\r\n",
    "alarms = blocks['alarms']\r\n",
    "outputs = blocks['outputs']\r\n",
    "\r\n",
    "request\r\n",
    "#blocks\r\n",
    "#analogs\r\n",
    "#outputs"
   ],
   "outputs": [
    {
     "output_type": "execute_result",
     "data": {
      "text/plain": [
       "{'success': True,\n",
       " 'message': 'Reading Good',\n",
       " 'now': '2021-06-01T15:10:49+0100',\n",
       " 'details': {'name': 'Control Panel 1 PH1',\n",
       "  'last_update': '2021-06-01 15:10:22',\n",
       "  'tz': 'Europe/London',\n",
       "  'update_cycle': '60'},\n",
       " 'blocks': [{'name': 'Panel 1 Area B&C PH1',\n",
       "   'last_update': '2021-06-01 15:10:22',\n",
       "   'mode': '3',\n",
       "   'analogs': [{'aid': '1',\n",
       "     'name': 'Level ',\n",
       "     'units': 'M',\n",
       "     'value': '0.4',\n",
       "     'recharge': '1000',\n",
       "     'cycle_pulses': '0.00',\n",
       "     'start': '0.30',\n",
       "     'stop': '0.40',\n",
       "     'dp': '2'},\n",
       "    {'aid': '2',\n",
       "     'name': 'Moisture Sensor 2',\n",
       "     'units': '%',\n",
       "     'value': '83',\n",
       "     'recharge': '120',\n",
       "     'cycle_pulses': '0.30',\n",
       "     'start': '10',\n",
       "     'stop': '20',\n",
       "     'dp': '0'},\n",
       "    {'aid': '3',\n",
       "     'name': 'Moisture Sensor 3',\n",
       "     'units': '%',\n",
       "     'value': '73',\n",
       "     'recharge': '120',\n",
       "     'cycle_pulses': '0.30',\n",
       "     'start': '5',\n",
       "     'stop': '15',\n",
       "     'dp': '0'}],\n",
       "   'alarms': [{'aid': '0',\n",
       "     'status': '0',\n",
       "     'type': '2',\n",
       "     'name': 'Irrigation Flow',\n",
       "     'last_change': '2021-05-30 18:57:21',\n",
       "     'healthy_name': 'Healthy',\n",
       "     'faulty_name': 'Alarm',\n",
       "     'pulse_total': '8.64',\n",
       "     'pulse_units': 'M3'},\n",
       "    {'aid': '1',\n",
       "     'status': '1',\n",
       "     'type': '2',\n",
       "     'name': 'Inlet Flow',\n",
       "     'last_change': '2021-04-28 15:41:00',\n",
       "     'healthy_name': 'Healthy',\n",
       "     'faulty_name': 'Alarm',\n",
       "     'pulse_total': '37.30',\n",
       "     'pulse_units': 'M3'},\n",
       "    {'aid': '2',\n",
       "     'status': '1',\n",
       "     'type': '2',\n",
       "     'name': 'Discharge Flow',\n",
       "     'last_change': '2021-04-28 15:23:02',\n",
       "     'healthy_name': 'Healthy',\n",
       "     'faulty_name': 'Alarm',\n",
       "     'pulse_total': '0.09',\n",
       "     'pulse_units': 'M3'}],\n",
       "   'outputs': [{'oid': '1',\n",
       "     'status': '0',\n",
       "     'name': 'Solenoid Valve 1 (OP1)',\n",
       "     'mode': '0',\n",
       "     'last_update': '2021-06-01 15:10:22',\n",
       "     'high_state': 'On',\n",
       "     'low_state': 'Off'},\n",
       "    {'oid': '3',\n",
       "     'status': '0',\n",
       "     'name': 'Solenoid Valve 1 (OP3)',\n",
       "     'mode': '0',\n",
       "     'last_update': '2021-06-01 15:10:22',\n",
       "     'high_state': 'On',\n",
       "     'low_state': 'Off'}]}]}"
      ]
     },
     "metadata": {},
     "execution_count": 5
    }
   ],
   "metadata": {}
  },
  {
   "cell_type": "code",
   "execution_count": 50,
   "source": [
    "for i, x in enumerate(analogs):\r\n",
    "\t#print(i, ' -> ', x)\r\n",
    "\t\r\n",
    "\tprint(x['aid'])\r\n",
    "\tprint(x['name'])\r\n",
    "\tprint(x['units'])\r\n",
    "\tprint(x['value'])\r\n",
    "\tprint(x['recharge'])\r\n",
    "\tprint(x['cycle_pulses'])\r\n",
    "\tprint(x['start'])\r\n",
    "\tprint(x['stop'])\r\n",
    "\tprint(x['dp'])\r\n",
    "\tprint('')"
   ],
   "outputs": [
    {
     "output_type": "stream",
     "name": "stdout",
     "text": [
      "1\n",
      "Level \n",
      "M\n",
      "0.4\n",
      "1000\n",
      "0.00\n",
      "0.30\n",
      "0.40\n",
      "2\n",
      "\n",
      "2\n",
      "Moisture Sensor 2\n",
      "%\n",
      "83\n",
      "120\n",
      "0.30\n",
      "10\n",
      "20\n",
      "0\n",
      "\n",
      "3\n",
      "Moisture Sensor 3\n",
      "%\n",
      "73\n",
      "120\n",
      "0.30\n",
      "5\n",
      "15\n",
      "0\n",
      "\n"
     ]
    }
   ],
   "metadata": {}
  }
 ],
 "metadata": {
  "orig_nbformat": 4,
  "language_info": {
   "name": "python",
   "version": "3.8.5",
   "mimetype": "text/x-python",
   "codemirror_mode": {
    "name": "ipython",
    "version": 3
   },
   "pygments_lexer": "ipython3",
   "nbconvert_exporter": "python",
   "file_extension": ".py"
  },
  "kernelspec": {
   "name": "python3",
   "display_name": "Python 3.8.5 64-bit ('.dlVenv': venv)"
  },
  "interpreter": {
   "hash": "7db06df37108c7e2a8b33d144ac49c80e4632df48d360fd899859dbc94449a7d"
  }
 },
 "nbformat": 4,
 "nbformat_minor": 2
}